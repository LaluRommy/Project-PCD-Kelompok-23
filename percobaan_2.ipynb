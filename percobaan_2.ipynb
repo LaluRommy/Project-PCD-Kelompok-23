{
 "cells": [
  {
   "cell_type": "code",
   "execution_count": 7,
   "metadata": {},
   "outputs": [
    {
     "ename": "ModuleNotFoundError",
     "evalue": "No module named 'seaborn'",
     "output_type": "error",
     "traceback": [
      "\u001b[1;31m---------------------------------------------------------------------------\u001b[0m",
      "\u001b[1;31mModuleNotFoundError\u001b[0m                       Traceback (most recent call last)",
      "Cell \u001b[1;32mIn[7], line 13\u001b[0m\n\u001b[0;32m     11\u001b[0m \u001b[38;5;28;01mfrom\u001b[39;00m \u001b[38;5;21;01mskimage\u001b[39;00m\u001b[38;5;21;01m.\u001b[39;00m\u001b[38;5;21;01mfeature\u001b[39;00m \u001b[38;5;28;01mimport\u001b[39;00m graycomatrix, graycoprops\n\u001b[0;32m     12\u001b[0m \u001b[38;5;28;01mfrom\u001b[39;00m \u001b[38;5;21;01msklearn\u001b[39;00m\u001b[38;5;21;01m.\u001b[39;00m\u001b[38;5;21;01mmodel_selection\u001b[39;00m \u001b[38;5;28;01mimport\u001b[39;00m train_test_split\n\u001b[1;32m---> 13\u001b[0m \u001b[38;5;28;01mimport\u001b[39;00m \u001b[38;5;21;01mseaborn\u001b[39;00m \u001b[38;5;28;01mas\u001b[39;00m \u001b[38;5;21;01msns\u001b[39;00m\n\u001b[0;32m     14\u001b[0m \u001b[38;5;28;01mfrom\u001b[39;00m \u001b[38;5;21;01msklearn\u001b[39;00m\u001b[38;5;21;01m.\u001b[39;00m\u001b[38;5;21;01mdecomposition\u001b[39;00m \u001b[38;5;28;01mimport\u001b[39;00m PCA\n\u001b[0;32m     15\u001b[0m \u001b[38;5;28;01mfrom\u001b[39;00m \u001b[38;5;21;01msklearn\u001b[39;00m\u001b[38;5;21;01m.\u001b[39;00m\u001b[38;5;21;01mpreprocessing\u001b[39;00m \u001b[38;5;28;01mimport\u001b[39;00m StandardScaler\n",
      "\u001b[1;31mModuleNotFoundError\u001b[0m: No module named 'seaborn'"
     ]
    }
   ],
   "source": [
    "import numpy as np\n",
    "import matplotlib.pyplot as plt \n",
    "import matplotlib.image as im\n",
    "import os \n",
    "import pandas as pd\n",
    "import cv2 as cv\n",
    "from skimage.color import rgb2gray\n",
    "import math\n",
    "import random\n",
    "import pandas as pd\n",
    "from skimage.feature import graycomatrix, graycoprops\n",
    "from sklearn.model_selection import train_test_split\n",
    "import seaborn as sns\n",
    "from sklearn.decomposition import PCA\n",
    "from sklearn.preprocessing import StandardScaler\n",
    "from sklearn.metrics import confusion_matrix\n",
    "from sklearn.metrics import accuracy_score, precision_score, recall_score, f1_score\n",
    "from sklearn.neighbors import KNeighborsClassifier\n",
    "from sklearn.ensemble import RandomForestClassifier\n",
    "from sklearn.svm import SVC\n",
    "from sklearn.discriminant_analysis import LinearDiscriminantAnalysis\n"
   ]
  },
  {
   "cell_type": "code",
   "execution_count": null,
   "metadata": {},
   "outputs": [],
   "source": [
    "folder = [\n",
    "    \"dataset/busuk/\",\n",
    "    \"dataset/segar/\",\n",
    "    \"dataset/setengah segar/\"\n",
    "]\n",
    "data = []\n",
    "labels = []\n",
    "fileName = []\n",
    "for i in folder:\n",
    "    label = i.split('/')[-2].lower().replace(\" \", \"_\")\n",
    "    dataset = os.listdir(i)\n",
    "    for file in dataset:\n",
    "        image_path = os.path.join(i, file)\n",
    "        nama = os.path.splitext(file)[0]\n",
    "        temp = cv.imread(image_path)\n",
    "        if temp is None:\n",
    "            print(f\"Error: Tidak dapat memuat gambar di {image_path}\")\n",
    "            continue\n",
    "        data.append(temp)\n",
    "        labels.append(label)\n",
    "        fileName.append(nama)"
   ]
  },
  {
   "cell_type": "code",
   "execution_count": null,
   "metadata": {},
   "outputs": [],
   "source": [
    "count_data = {}\n",
    "for i in folder:\n",
    "    count_data[i] = len(os.listdir(i))\n",
    "\n",
    "plt.figure(figsize=(10, 8))\n",
    "plt.bar(count_data.keys(), count_data.values())\n",
    "plt.title('Visualisasi Distribusi Data')\n",
    "plt.show()"
   ]
  },
  {
   "cell_type": "code",
   "execution_count": null,
   "metadata": {},
   "outputs": [],
   "source": [
    "def plot_samples(data, label, num_samples=5):\n",
    "    unique_labels = np.unique(label)\n",
    "    fig, axes = plt.subplots(len(unique_labels), num_samples, figsize=(num_samples*3, len(unique_labels)*3))\n",
    "    for i, j in enumerate(unique_labels):\n",
    "        indices = [idx for idx, l in enumerate(label) if l == j]\n",
    "        sample_indices = random.sample(indices, num_samples)\n",
    "        for k, sample_idx in enumerate(sample_indices):\n",
    "            if data[sample_idx].ndim == 2: \n",
    "                axes[i, k].imshow(data[sample_idx], cmap='gray')\n",
    "            elif data[sample_idx].shape[2] == 3:\n",
    "                image = data[sample_idx][:, :, ::-1]\n",
    "                axes[i, k].imshow(image)\n",
    "            axes[i, k].axis('off')\n",
    "            if k == 0:\n",
    "                axes[i, k].set_title(f'Label: {j}')\n",
    "\n",
    "    plt.tight_layout()\n",
    "    plt.show()\n",
    "\n",
    "plot_samples(data, labels)"
   ]
  },
  {
   "cell_type": "code",
   "execution_count": null,
   "metadata": {},
   "outputs": [],
   "source": [
    "data = []\n",
    "labels = []\n",
    "fileName = []\n",
    "for i in folder:\n",
    "    label = i.split('/')[-2].lower().replace(\" \", \"_\")\n",
    "    dataset = os.listdir(i)\n",
    "    for file in dataset:\n",
    "        image_path = os.path.join(i, file)\n",
    "        nama = os.path.splitext(file)[0]\n",
    "        temp = cv.imread(image_path)\n",
    "        if temp is None:\n",
    "            print(f\"Error: Tidak dapat memuat gambar di {image_path}\")\n",
    "            continue\n",
    "        grayimage = cv.cvtColor(temp, cv.COLOR_BGR2GRAY)\n",
    "        data.append(grayimage)\n",
    "        labels.append(label)\n",
    "        fileName.append(nama)"
   ]
  },
  {
   "cell_type": "code",
   "execution_count": null,
   "metadata": {},
   "outputs": [],
   "source": [
    "def plot_samples(data, label, num_samples=5):\n",
    "    unique_labels = np.unique(label)\n",
    "    fig, axes = plt.subplots(len(unique_labels), num_samples, figsize=(num_samples*3, len(unique_labels)*3))\n",
    "    for i, j in enumerate(unique_labels):\n",
    "        indices = [idx for idx, l in enumerate(label) if l == j]\n",
    "        sample_indices = random.sample(indices, num_samples)\n",
    "        for k, sample_idx in enumerate(sample_indices):\n",
    "            if data[sample_idx].ndim == 2: \n",
    "                axes[i, k].imshow(data[sample_idx], cmap='gray')\n",
    "            elif data[sample_idx].shape[2] == 3:\n",
    "                image = data[sample_idx][:, :, ::-1]\n",
    "                axes[i, k].imshow(image)\n",
    "            axes[i, k].axis('off')\n",
    "            if k == 0:\n",
    "                axes[i, k].set_title(f'Label: {j}')\n",
    "\n",
    "    plt.tight_layout()\n",
    "    plt.show()\n",
    "\n",
    "plot_samples(data, labels)"
   ]
  },
  {
   "cell_type": "code",
   "execution_count": null,
   "metadata": {},
   "outputs": [],
   "source": [
    "def apply_gabor_filter(image):\n",
    "    gabor_kernels = []\n",
    "    num_kernels = 16\n",
    "    for theta in np.arange(0, np.pi, np.pi / num_kernels):\n",
    "        kernel = cv.getGaborKernel((21, 21), 4.0, theta, 10.0, 0.5, 0, ktype=cv.CV_32F)\n",
    "        gabor_kernels.append(kernel)\n",
    "    \n",
    "    filtered_images = []\n",
    "    for kernel in gabor_kernels:\n",
    "        filtered_image = cv.filter2D(image, cv.CV_8UC3, kernel)\n",
    "        filtered_images.append(filtered_image)\n",
    "    return filtered_images"
   ]
  },
  {
   "cell_type": "code",
   "execution_count": null,
   "metadata": {},
   "outputs": [],
   "source": [
    "def preprocess(image):\n",
    "    resized_image = cv.resize(image, (500, 500))\n",
    "    gray_image = cv.cvtColor(resized_image, cv.COLOR_BGR2GRAY)\n",
    "    gabor_images = apply_gabor_filter(gray_image)\n",
    "    return gabor_images"
   ]
  },
  {
   "cell_type": "code",
   "execution_count": null,
   "metadata": {},
   "outputs": [],
   "source": [
    "preprocessed_path = 'dataset/preprocess/'\n",
    "kategori = ['busuk', 'segar', 'setengah_segar']\n",
    "\n",
    "if not os.path.exists(preprocessed_path):\n",
    "    os.makedirs(preprocessed_path)\n",
    "\n",
    "for i in kategori:\n",
    "    kategori_path = os.path.join(preprocessed_path, i)\n",
    "    if not os.path.exists(kategori_path):\n",
    "        os.makedirs(kategori_path)"
   ]
  },
  {
   "cell_type": "code",
   "execution_count": null,
   "metadata": {},
   "outputs": [],
   "source": [
    "preprocessed_data = []\n",
    "preprocessed_labels = []\n",
    "for i, image in enumerate(data):\n",
    "    label = labels[i]\n",
    "    prepro_images = preprocess(image)\n",
    "    for prepro_image in prepro_images:\n",
    "        preprocessed_data.append(prepro_image)\n",
    "        preprocessed_labels.append(label)"
   ]
  },
  {
   "cell_type": "code",
   "execution_count": null,
   "metadata": {},
   "outputs": [],
   "source": [
    "plt.figure(figsize=(15, 5))\n",
    "for i in range(12):\n",
    "    plt.subplot(2, 6, i+1)\n",
    "    plt.imshow(preprocessed_data[i], cmap='gray')\n",
    "    plt.axis('off')\n",
    "plt.show()"
   ]
  },
  {
   "cell_type": "code",
   "execution_count": null,
   "metadata": {},
   "outputs": [],
   "source": [
    "jenis = {\n",
    "    'busuk': 0,\n",
    "    'segar': 1,\n",
    "    'setengah_segar': 2\n",
    "}"
   ]
  },
  {
   "cell_type": "code",
   "execution_count": null,
   "metadata": {},
   "outputs": [],
   "source": [
    "def extract_glcm_features(images, labels, distances=[5], angles=[0, np.pi/4, np.pi/2, 3*np.pi/4], levels=256, symmetric=True, normed=True):\n",
    "    features = ['contrast', 'dissimilarity', 'homogeneity', 'energy', 'correlation']\n",
    "    angle_labels = ['0', '45', '90', '135']\n",
    "    df_data = pd.DataFrame()\n",
    "    for i, image in enumerate(images):\n",
    "        image = image.astype(int)\n",
    "        glcm = greycomatrix(image, distances, angles, levels, symmetric, normed)\n",
    "        for feature in features:\n",
    "            for angle, angle_label in zip(angles, angle_labels):\n",
    "                feat_a = greycoprops(glcm, feature)[0, int(angle*4/np.pi)]\n",
    "                df_data.loc[i, f'{feature}_{angle_label}'] = feat_a\n",
    "        for angle, angle_label in zip(angles, angle_labels):\n",
    "            asm = np.sum(glcm[:, :, 0, int(angle*4/np.pi)]**2)\n",
    "            entropy = -np.sum(glcm[:, :, 0, int(angle*4/np.pi)]*np.log2(glcm[:, :, 0, int(angle*4/np.pi)] + np.finfo(float).eps))\n",
    "            df_data.loc[i, f'asm_{angle_label}'] = asm\n",
    "            df_data.loc[i, f'entropy_{angle_label}'] = entropy\n",
    "        df_data.loc[i, 'label'] = jenis[labels[i]]\n",
    "    return df_data"
   ]
  },
  {
   "cell_type": "code",
   "execution_count": null,
   "metadata": {},
   "outputs": [],
   "source": [
    "folder_baru = [\n",
    "    \"dataset/preprocess/busuk/\",\n",
    "    \"dataset/preprocess/segar/\",\n",
    "    \"dataset/preprocess/setengah_segar/\"\n",
    "]\n",
    "data = []\n",
    "labels = []\n",
    "fileName = []\n",
    "for i in folder:\n",
    "    label = i.split('/')[-2].lower().replace(\" \", \"_\")\n",
    "    dataset = os.listdir(i)\n",
    "    for file in dataset:\n",
    "        image_path = os.path.join(i, file)\n",
    "        nama = os.path.splitext(file)[0]\n",
    "        temp = cv.imread(image_path)\n",
    "        if temp is None:\n",
    "            print(f\"Error: Tidak dapat memuat gambar di {image_path}\")\n",
    "            continue\n",
    "        grayimage = cv.cvtColor(temp, cv.COLOR_BGR2GRAY)\n",
    "        data.append(grayimage)\n",
    "        labels.append(label)\n",
    "        fileName.append(nama)"
   ]
  },
  {
   "cell_type": "code",
   "execution_count": null,
   "metadata": {},
   "outputs": [],
   "source": [
    "df_glcm = extract_glcm_features(preprocessed_data, preprocessed_labels)"
   ]
  },
  {
   "cell_type": "code",
   "execution_count": null,
   "metadata": {},
   "outputs": [],
   "source": [
    "df_glcm"
   ]
  },
  {
   "cell_type": "code",
   "execution_count": null,
   "metadata": {},
   "outputs": [],
   "source": [
    "df_glcm.to_csv('glcm_features_augmented.csv', index=False)\n",
    "df_glcm = pd.read_csv('glcm_features_augmented.csv')"
   ]
  },
  {
   "cell_type": "code",
   "execution_count": null,
   "metadata": {},
   "outputs": [],
   "source": [
    "corr_glcm = df_glcm.corr()\n",
    "plt.figure(figsize=(15, 15))\n",
    "sns.heatmap(corr_glcm, annot=True, cmap='coolwarm', cbar=False)\n",
    "plt.tick_params(axis='both', which='major', labelsize=8)\n",
    "plt.tick_params(axis='both', which='minor', labelsize=8)\n",
    "plt.show()"
   ]
  },
  {
   "cell_type": "code",
   "execution_count": null,
   "metadata": {},
   "outputs": [],
   "source": [
    "x, y = df_glcm.drop('label', axis=1), df_glcm['label']\n",
    "pca = PCA(n_components=25)\n",
    "x_pca = pca.fit_transform(x)\n",
    "x_train, x_test, y_train, y_test = train_test_split(x_pca, y, test_size=0.2, random_state=42)\n"
   ]
  },
  {
   "cell_type": "code",
   "execution_count": null,
   "metadata": {},
   "outputs": [],
   "source": [
    "scaler = StandardScaler()\n",
    "x_train = scaler.fit_transform(x_train)\n",
    "x_test = scaler.transform(x_test)"
   ]
  },
  {
   "cell_type": "code",
   "execution_count": null,
   "metadata": {},
   "outputs": [],
   "source": [
    "knn = KNeighborsClassifier(n_neighbors=1, metric='cosine')\n",
    "knn.fit(x_train, y_train)\n",
    "y_pred_knn = knn.predict(x_test)\n",
    "print('KNN Accuracy:', accuracy_score(y_test, y_pred_knn))"
   ]
  },
  {
   "cell_type": "code",
   "execution_count": null,
   "metadata": {},
   "outputs": [],
   "source": [
    "\n",
    "svm = SVC(kernel='rbf', C=30, gamma='auto')\n",
    "svm.fit(x_train, y_train)\n",
    "y_pred_svm = svm.predict(x_test)\n",
    "print('SVM Accuracy:', accuracy_score(y_test, y_pred_svm))"
   ]
  },
  {
   "cell_type": "code",
   "execution_count": null,
   "metadata": {},
   "outputs": [],
   "source": [
    "rfc = RandomForestClassifier(n_estimators=500, class_weight='balanced', n_jobs=-1, max_depth=50, min_samples_leaf=1, min_samples_split=2, bootstrap=False, criterion='gini')\n",
    "rfc.fit(x_train, y_train)\n",
    "y_pred_rfc = rfc.predict(x_test)\n",
    "print('Random Forest Accuracy:', accuracy_score(y_test, y_pred_rfc))"
   ]
  },
  {
   "cell_type": "code",
   "execution_count": null,
   "metadata": {},
   "outputs": [],
   "source": [
    "# Evaluate Models\n",
    "model_dict = {\n",
    "    'KNN': knn,\n",
    "    'SVM': svm,\n",
    "    'RF': rfc\n",
    "}\n",
    "df_eval = pd.DataFrame(columns=['Accuracy', 'Precision', 'Recall', 'F1 Score'], index=model_dict.keys())\n"
   ]
  },
  {
   "cell_type": "code",
   "execution_count": null,
   "metadata": {},
   "outputs": [],
   "source": [
    "for model_name, model in model_dict.items():\n",
    "    y_pred = model.predict(x_test)\n",
    "    df_eval.loc[model_name, 'Accuracy'] = accuracy_score(y_test, y_pred)\n",
    "    df_eval.loc[model_name, 'Precision'] = precision_score(y_test, y_pred, average='weighted')\n",
    "    df_eval.loc[model_name, 'Recall'] = recall_score(y_test, y_pred, average='weighted')\n",
    "    df_eval.loc[model_name, 'F1 Score'] = f1_score(y_test, y_pred, average='weighted')\n",
    "\n",
    "print(df_eval)"
   ]
  },
  {
   "cell_type": "code",
   "execution_count": null,
   "metadata": {},
   "outputs": [],
   "source": [
    "fig, ax = plt.subplots(1, 3, figsize=(20, 5))\n",
    "for i, model_name in enumerate(model_dict.keys()):\n",
    "    y_pred = model_dict[model_name].predict(x_test)\n",
    "    cm = confusion_matrix(y_test, y_pred)\n",
    "    sns.heatmap(cm, annot=True, cmap='coolwarm', cbar=False, ax=ax[i])\n",
    "    ax[i].set_xlabel('Predicted')\n",
    "    ax[i].set_ylabel('True')\n",
    "    ax[i].set_title(model_name)\n",
    "plt.show()"
   ]
  }
 ],
 "metadata": {
  "language_info": {
   "name": "python"
  }
 },
 "nbformat": 4,
 "nbformat_minor": 2
}
